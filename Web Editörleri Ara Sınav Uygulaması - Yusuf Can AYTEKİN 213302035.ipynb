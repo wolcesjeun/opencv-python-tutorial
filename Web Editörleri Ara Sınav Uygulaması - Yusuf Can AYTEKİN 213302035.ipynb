{
 "cells": [
  {
   "cell_type": "markdown",
   "id": "21787356-387c-45ff-82c6-078313f3c7bd",
   "metadata": {},
   "source": [
    "# Web Editörleri Ara Sınav Uygulaması\n",
    "\n",
    "### Talimatlar:\n",
    "* <font color=red>Bilgisayarın Görmesi (Computer Vision)</font> ile ilgili OpenCV kütüphanesinin kullanımını anlatan bir uygulama kılavuzu hazırlayınız.\n",
    "* Klavuzda yer alan başlık ve içerik yapısı aşağıdaki gibi olacaktır.\n",
    "* Dosyayı hazırladıktan sonra Github üzerinde bir hesap açıp, bu dosyayı oraya yükleyip, web adresini bu hücrece verilen yere yazınız.\n",
    "* Bu dosyayı ayrıca DBS üzerinde açılan sınav ödevi etkinliğine yükleyiniz.\n",
    "* Bu dosyayı hazırladıktan sonra DBS'ye yüklerken mutlaka dosya adını değiştirerek Kendi Adınızı yazınız. Github'a yüklerken dosya adını konu başlığı ile değiştiriniz.\n",
    "\n",
    "### Öğrenci Bilgileri\n",
    "\n",
    "Öğrenci bilgilerini yazmak için <u>buraya</u> çift tıklayınız.\n",
    "* Adı Soyadı: Yusuf Can AYTEKİN \n",
    "* Öğrenci No: 313302035\n",
    "* Dosyanın Github adresi: https://github.com/wolcesjeun/opencv-python-tutorial"
   ]
  },
  {
   "cell_type": "markdown",
   "id": "a90db1ba-6346-456c-b18f-a494c03a7eef",
   "metadata": {},
   "source": [
    "# Computer Vision\n",
    "\n",
    "Computer vision, insanların görüntüleri ve videoları algılama ve yorumlama biçimine benzer şekilde makinelerin görsel verileri görmesini ve anlamasını sağlamaya odaklanan bir çalışma alanıdır. Bilgisayarların resimler ve videolar gibi görsel girdilerden anlamlı bilgiler çıkarmasına ve bu bilgilere dayanarak akıllı kararlar vermesine olanak tanıyan algoritmalar ve teknikler geliştirmeyi içerir. Bilgisayarla görme, makinelerin görsel verileri analiz etmesini ve yorumlamasını sağlamak için bilgisayar bilimi, yapay zeka ve görüntü işleme unsurlarını birleştirir.\n",
    "\n",
    "Computer vision'da makineler nesneler, şekiller, renkler, dokular ve hareketler gibi çeşitli görsel unsurları tanımak ve anlamak üzere eğitilir. Bu, derin öğrenme ve konvolüsyonel sinir ağları (CNN'ler) gibi gelişmiş algoritmalar ve makine öğrenimi tekniklerinin kullanılmasıyla elde edilir. Bu algoritmalar makinelerin nesneleri tespit etmesini ve sınıflandırmasını, hareketlerini izlemesini, pozlarını tahmin etmesini ve hatta anlamsal anlamlarını anlamasını sağlar.\n",
    "\n",
    "Bilgisayarla görme, çeşitli sektörlerde ve alanlarda geniş bir uygulama alanına sahiptir. Tıbbi görüntü analizi ve teşhisi için sağlık hizmetleri, nesne algılama ve navigasyon için otonom araçlarda, güvenlik ve izleme için gözetim sistemlerinde, nesne manipülasyonu ve navigasyon için robotikte ve kullanıcı deneyimlerini geliştirmek için artırılmış gerçeklik ve sanal gerçeklik gibi alanlarda kullanılır."
   ]
  },
  {
   "cell_type": "markdown",
   "id": "ebfa1415-77ef-4991-9a36-5cfa1cb92932",
   "metadata": {},
   "source": [
    "### OpenCv Kütüphanesi Kullanımı\n",
    "OpenCV (Open Source Computer Vision Library), öncelikle gerçek zamanlı bilgisayarla görmeyi amaçlayan açık kaynaklı bir kütüphanedir. Görüntü ve video işleme, analiz ve manipülasyon için geniş bir araç ve algoritma koleksiyonuna sahiptir. Bu araçlar nesne algılama, yüz tanıma, hareket izleme ve çok daha fazlası gibi görevleri mümkün kılar. OpenCV robotik, sürücüsüz arabalar, tıbbi görüntüleme ve artırılmış gerçeklik gibi çeşitli alanlarda uygulama alanı bulmaktadır. Platformlar arası uyumluluğu ve kapsamlı dokümantasyonu, onu bilgisayarla görme alanında hem yeni başlayanlar hem de uzmanlar için popüler bir seçim haline getirmektedir.\n",
    "\n",
    "Bugünkü projemizde OpenCV'ye girişi ele alacağız. İlk olarak, temel görüntü işleme adımlarından olan görünüyü basitçe manipüle etmek gibi basit işlemleri inceleyeceğiz. Ardından, bu işlevleri kullanarak küçük bir OpenCV programı yazacağız.\n",
    "\n",
    "<b>Sırasıyla aşağıdaki adımları izleyeceğiz:</b>\n",
    "\n",
    "1.  Kullanacağımız kütüphaneleri içeri aktarma.\n",
    "2.  Bir resimi okuma fonksiyonu oluşturma.\n",
    "3.  Bir resimi gri tonlamaya dönüştürme fonksiyonunu oluşturma.\n",
    "4.  Bir resimi gauss bulanıklaştırma yöntemiyle bulanıklaştırma fonksiyonu oluşturma.\n",
    "5.  Bir resimde kenar algılama fonksiyonu oluşturma.\n",
    "6.  Resimi pencerede görüntüleme fonksiyonu oluşturma.\n",
    "7.  Programımızın algoritmasına uygun kod yapısını oluşturma."
   ]
  },
  {
   "cell_type": "markdown",
   "id": "bf8597a7-af19-4875-9ea5-9fb77b63b804",
   "metadata": {},
   "source": [
    "### 0- Kütüphanenin kurulumu"
   ]
  },
  {
   "cell_type": "markdown",
   "id": "e8300d50-497c-42e1-ac2b-cc458bffa579",
   "metadata": {
    "vscode": {
     "languageId": "bat"
    }
   },
   "source": [
    "pip install opencv-python\n",
    "pip install numpy"
   ]
  },
  {
   "cell_type": "markdown",
   "id": "3a012d5b-7d9d-4b64-82fd-0539628cd9ab",
   "metadata": {},
   "source": [
    "### 1 - Kullanacağımız kütüphaneleri içeri aktarma."
   ]
  },
  {
   "cell_type": "code",
   "execution_count": 11,
   "id": "16af5290-9980-42ea-86f9-c4266926ae24",
   "metadata": {},
   "outputs": [],
   "source": [
    "import cv2\n",
    "import numpy as np\n"
   ]
  },
  {
   "cell_type": "markdown",
   "id": "474f1e1f-1f51-4097-b13b-2997d2f13464",
   "metadata": {},
   "source": [
    "### 2 - Bir resimi okuma fonksiyonu oluşturma."
   ]
  },
  {
   "cell_type": "code",
   "execution_count": 36,
   "id": "3be2c9b7-6708-4de3-9ab5-215ce741fef0",
   "metadata": {},
   "outputs": [],
   "source": [
    "def read_image(image_path):\n",
    "  \"\"\"\n",
    "  Belirtilen yoldan bir resmi okur ve RGB formatında döndürür.\n",
    "\n",
    "  Args:\n",
    "      image_path (str): Görüntünün dosya yolu.\n",
    "\n",
    "  Returns:\n",
    "      numpy.ndarray: RGB formatında görüntü dizisi.\n",
    "  \"\"\"\n",
    "  image = cv2.imread(image_path)\n",
    "  return cv2.cvtColor(image, cv2.COLOR_BGR2RGB)"
   ]
  },
  {
   "cell_type": "markdown",
   "id": "1384bf1c-b05d-4ff2-a44b-0740b99eba31",
   "metadata": {},
   "source": [
    "### 3 - Bir resimi gri tonlamaya dönüştürme fonksiyonunu oluşturma."
   ]
  },
  {
   "cell_type": "code",
   "execution_count": 35,
   "id": "b265a851-406a-49c5-af2f-3e8cfaf6087f",
   "metadata": {},
   "outputs": [],
   "source": [
    "def grayscale(image):\n",
    "  \"\"\"\n",
    "  Bir resmi gri tonlamaya dönüştürür.\n",
    "\n",
    "  Args:\n",
    "      image (numpy.ndarray): RGB formatında görüntü dizisi.\n",
    "\n",
    "  Returns:\n",
    "      numpy.ndarray: Gri tonlamalı görüntü dizisi.\n",
    "  \"\"\"\n",
    "  return cv2.cvtColor(image, cv2.COLOR_RGB2GRAY)"
   ]
  },
  {
   "cell_type": "markdown",
   "id": "038b2cde",
   "metadata": {},
   "source": [
    "### 4 - Bir resimi gauss bulanıklaştırma yöntemiyle bulanıklaştırma fonksiyonu oluşturma."
   ]
  },
  {
   "cell_type": "code",
   "execution_count": 34,
   "id": "1f8e4f00-3502-461b-aadf-2b4f2b72b9d7",
   "metadata": {},
   "outputs": [],
   "source": [
    "def blur(image, kernel_size=(3, 3)):\n",
    "  \"\"\"\n",
    "  Bir resmi Gauss bulanıklaştırma ile bulanıklaştırır.\n",
    "\n",
    "  Args:\n",
    "      image (numpy.ndarray): RGB formatında görüntü dizisi.\n",
    "      kernel_size (tuple): Bulanıklaştırma çekirdeği boyutu (genişlik, yükseklik).\n",
    "\n",
    "  Returns:\n",
    "      numpy.ndarray: Bulanıklaştırılmış görüntü dizisi.\n",
    "  \"\"\"\n",
    "  return cv2.GaussianBlur(image, kernel_size, 0)"
   ]
  },
  {
   "cell_type": "markdown",
   "id": "3cd42710",
   "metadata": {},
   "source": [
    "### 5 - Bir resimde kenar algılama fonksiyonu oluşturma."
   ]
  },
  {
   "cell_type": "code",
   "execution_count": 55,
   "id": "bd78a0e9",
   "metadata": {},
   "outputs": [],
   "source": [
    "def edges(image):\n",
    "  \"\"\"\n",
    "  Bir resimde kenarları algılar ve görüntüler.\n",
    "\n",
    "  Args:\n",
    "      image (numpy.ndarray): Gri tonlamalı görüntü dizisi.\n",
    "\n",
    "  Returns:\n",
    "      numpy.ndarray: Kenarları gösteren görüntü dizisi.\n",
    "  \"\"\"\n",
    "  return cv2.Canny(image, 10, 40)"
   ]
  },
  {
   "cell_type": "markdown",
   "id": "204221e8",
   "metadata": {},
   "source": [
    "### 6 - Resimi pencerede görüntüleme fonksiyonu oluşturma."
   ]
  },
  {
   "cell_type": "code",
   "execution_count": 33,
   "id": "2c198e8a",
   "metadata": {},
   "outputs": [],
   "source": [
    "def show_image(image, title=\"Resim\"):\n",
    "  \"\"\"\n",
    "  Bir resmi pencerede görüntüler.\n",
    "\n",
    "  Args:\n",
    "      image (numpy.ndarray): Görüntü dizisi (RGB veya gri tonlamalı).\n",
    "      title (str): Pencere başlığı.\n",
    "  \"\"\"\n",
    "  cv2.imshow(title, image)\n",
    "  cv2.waitKey(0)\n",
    "  cv2.destroyAllWindows()"
   ]
  },
  {
   "cell_type": "markdown",
   "id": "e580219d",
   "metadata": {},
   "source": [
    "### 7 - Programımızın algoritmasına uygun kod yapısını oluşturma."
   ]
  },
  {
   "cell_type": "code",
   "execution_count": 58,
   "id": "343de40a",
   "metadata": {},
   "outputs": [],
   "source": [
    "# Bir resim oku\n",
    "image = read_image(\"kum-tepesi.jpg\")\n",
    "\n",
    "# Resmi gri tonlamaya dönüştür\n",
    "gray_image = grayscale(image)\n",
    "\n",
    "# Resmi bulanıklaştır\n",
    "blurred_image = blur(gray_image, kernel_size=(7, 7))\n",
    "\n",
    "# Kenarları algıla\n",
    "edges_image = edges(blurred_image)\n",
    "\n",
    "# Orijinal, gri tonlamalı, bulanıklaştırılmış ve kenar algılanmış resimleri göster\n",
    "show_image(image, \"Orijinal\")\n",
    "show_image(gray_image, \"Gri Tonlamalı\")\n",
    "show_image(blurred_image, \"Bulanıklaştırılmış\")\n",
    "show_image(edges_image, \"Kenarlar\")\n"
   ]
  }
 ],
 "metadata": {
  "kernelspec": {
   "display_name": "Python 3 (ipykernel)",
   "language": "python",
   "name": "python3"
  },
  "language_info": {
   "codemirror_mode": {
    "name": "ipython",
    "version": 3
   },
   "file_extension": ".py",
   "mimetype": "text/x-python",
   "name": "python",
   "nbconvert_exporter": "python",
   "pygments_lexer": "ipython3",
   "version": "3.12.2"
  }
 },
 "nbformat": 4,
 "nbformat_minor": 5
}
